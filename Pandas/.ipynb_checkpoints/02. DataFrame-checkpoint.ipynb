{
 "cells": [
  {
   "cell_type": "markdown",
   "id": "f921f52c",
   "metadata": {},
   "source": [
    "# 2. DataFrame\n",
    "2차원 데이터 (Series들의 모음)"
   ]
  },
  {
   "cell_type": "markdown",
   "id": "a0b7de2f",
   "metadata": {},
   "source": [
    "## Data 준비\n",
    "사전 (dict) 자료구조를 통해 생성\n",
    "\n",
    "예) 슬램덩크 주요 인물 8명에 대한 데이터"
   ]
  },
  {
   "cell_type": "code",
   "execution_count": null,
   "id": "40f1b4ab",
   "metadata": {},
   "outputs": [],
   "source": [
    "data={\n",
    "    '이름': ['채치수','정대만','송태섭','서태풍','강백호'.'변덕규','황태산','윤대협'],\n",
    "    '학교': ['북산고','북산고','북산고','북산고','북산고','능남고','능남고','능남고'],\n",
    "    '키': [197, 184, 168, 187, 188, 202, 188, 190],\n",
    "    '국어': [90,40,80,40,15,80,55,100],\n",
    "    '영어': [85,35,75,60,20,100,65,85],\n",
    "    '수학': [85,35,75,60,20,100,65,85],\n",
    "    '과학': [85,35,75,60,20,100,65,85],\n",
    "    '사회': [85,35,75,60,20,100,65,85],\n",
    "    'SW특기': []\n",
    "}"
   ]
  }
 ],
 "metadata": {
  "kernelspec": {
   "display_name": "Python 3 (ipykernel)",
   "language": "python",
   "name": "python3"
  },
  "language_info": {
   "codemirror_mode": {
    "name": "ipython",
    "version": 3
   },
   "file_extension": ".py",
   "mimetype": "text/x-python",
   "name": "python",
   "nbconvert_exporter": "python",
   "pygments_lexer": "ipython3",
   "version": "3.9.12"
  }
 },
 "nbformat": 4,
 "nbformat_minor": 5
}
