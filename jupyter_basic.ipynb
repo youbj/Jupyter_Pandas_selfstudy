{
 "cells": [
  {
   "cell_type": "markdown",
   "id": "b1940c02",
   "metadata": {},
   "source": [
    "# 주피터 노트북 사용법\n",
    "* shifg + enter는 셀이 실행되고 커서가 다음셀로 이동\n",
    "* enter 키 입력시 재 편집 상태\n",
    "* ESC 키 를 누르고 \n",
    "    * a 키는 위에 셀추가\n",
    "    * b키를 누르면 아래에 셀 추가\n",
    "    * dd 키를 누르면 셀 삭제\n",
    "    * m키를 누르면 문서 셀로 변경\n",
    "    * y키로 누르면 코드셀로 변경\n",
    "    * h키 누르면 헬프\n",
    "    \n",
    "### 마크다운이란?\n",
    "* 코드와 함께 문서화를 할 수 있는 문법\n",
    "'''\n",
    "여러줄의 설명을 줄바꿈으로 쓰고자 할때\n",
    "'''"
   ]
  },
  {
   "cell_type": "markdown",
   "id": "c2d95425",
   "metadata": {},
   "source": [
    "# Pandas가 무엇인가\n",
    "\n",
    "## Series란?\n",
    "* column으로 각 table의 요소이다.\n",
    "* python list로 생성한다. "
   ]
  },
  {
   "cell_type": "markdown",
   "id": "064084b7",
   "metadata": {},
   "source": [
    "# 데이터 불러오는 방법\n",
    "    * 항상 첫번째 \n",
    "## 문서의 내용이  ,로 구분되는 내용일 때,\n",
    "* pd.read_csv('문서가 저장된 위치')의 방식으로 사용한다.\n",
    "* csv란 문서의 내용이  , 로 구분된 문서를 말한다.\n",
    "\n",
    "## 문서의 내용이 다른 특수문자로 구분되는 내용일 때,\n",
    "* 위의 방식과 동일하지만 pd.read_csv('문서가 저장된 위치', delimiter='구분문자')의 방식으로 표현한다.\n",
    "\n",
    "## 문서에 저장된 내용에 head가 없을 경우\n",
    "* 첫번째 있는 줄의 내용을 헤더로 가져와 버린다\n",
    "* df=pd.read_csv('문서가 저장된 위치', header = none)으로 표현하면 인덱스화하여 보여준다\n",
    "* df.columns = [' table명 ',' table명2 ',' table명3 ']을 하면 table명에 따라 header에 이름을 부여한다\n",
    "* 한번에 header를 부여하는 방법은 \n",
    "    * pd.read_csv('문서가 저장된 위치', header=None, name = ['name1','name2','name3'])로 표현"
   ]
  },
  {
   "cell_type": "markdown",
   "id": "c9300182",
   "metadata": {},
   "source": [
    "#  데이터를 "
   ]
  },
  {
   "cell_type": "code",
   "execution_count": null,
   "id": "82333802",
   "metadata": {},
   "outputs": [],
   "source": []
  }
 ],
 "metadata": {
  "kernelspec": {
   "display_name": "Python 3 (ipykernel)",
   "language": "python",
   "name": "python3"
  },
  "language_info": {
   "codemirror_mode": {
    "name": "ipython",
    "version": 3
   },
   "file_extension": ".py",
   "mimetype": "text/x-python",
   "name": "python",
   "nbconvert_exporter": "python",
   "pygments_lexer": "ipython3",
   "version": "3.9.12"
  }
 },
 "nbformat": 4,
 "nbformat_minor": 5
}
